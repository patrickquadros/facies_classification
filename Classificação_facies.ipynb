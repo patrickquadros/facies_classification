{
  "nbformat": 4,
  "nbformat_minor": 0,
  "metadata": {
    "colab": {
      "name": "Classificação_facies.ipynb",
      "provenance": [],
      "collapsed_sections": [],
      "include_colab_link": true
    },
    "kernelspec": {
      "name": "python3",
      "display_name": "Python 3"
    },
    "language_info": {
      "name": "python"
    }
  },
  "cells": [
    {
      "cell_type": "markdown",
      "metadata": {
        "id": "view-in-github",
        "colab_type": "text"
      },
      "source": [
        "<a href=\"https://colab.research.google.com/github/patrickquadros/facies_classification/blob/main/Classifica%C3%A7%C3%A3o_facies.ipynb\" target=\"_parent\"><img src=\"https://colab.research.google.com/assets/colab-badge.svg\" alt=\"Open In Colab\"/></a>"
      ]
    },
    {
      "cell_type": "code",
      "execution_count": null,
      "metadata": {
        "colab": {
          "base_uri": "https://localhost:8080/"
        },
        "id": "9mDmQSr4d-jK",
        "outputId": "09d1213d-8a76-4ef4-89a8-5e085cb8559b"
      },
      "outputs": [
        {
          "output_type": "stream",
          "name": "stdout",
          "text": [
            "--2022-01-19 14:59:37--  https://raw.githubusercontent.com/patrickquadros/facies_classification/main/NINE_WELLS_INTELLOG.csv\n",
            "Resolving raw.githubusercontent.com (raw.githubusercontent.com)... 185.199.108.133, 185.199.110.133, 185.199.109.133, ...\n",
            "Connecting to raw.githubusercontent.com (raw.githubusercontent.com)|185.199.108.133|:443... connected.\n",
            "HTTP request sent, awaiting response... 200 OK\n",
            "Length: 288630 (282K) [text/plain]\n",
            "Saving to: ‘NINE_WELLS_INTELLOG.csv’\n",
            "\n",
            "NINE_WELLS_INTELLOG 100%[===================>] 281.87K  --.-KB/s    in 0.03s   \n",
            "\n",
            "2022-01-19 14:59:38 (8.60 MB/s) - ‘NINE_WELLS_INTELLOG.csv’ saved [288630/288630]\n",
            "\n"
          ]
        }
      ],
      "source": [
        "# Os dados foram passados parao o GitHub, para facilitar o acesso\n",
        "!wget https://raw.githubusercontent.com/patrickquadros/facies_classification/main/NINE_WELLS_INTELLOG.csv"
      ]
    },
    {
      "cell_type": "code",
      "source": [
        "import pandas as pd\n",
        "\n",
        "# Importando os dados\n",
        "data = pd.read_csv('/content/NINE_WELLS_INTELLOG.csv')"
      ],
      "metadata": {
        "id": "UpECL6VrkCAp"
      },
      "execution_count": null,
      "outputs": []
    },
    {
      "cell_type": "code",
      "source": [
        "# Visualizando o DataFrame\n",
        "data"
      ],
      "metadata": {
        "colab": {
          "base_uri": "https://localhost:8080/",
          "height": 423
        },
        "id": "hbPJFR0wkOpu",
        "outputId": "57f5f5c0-dca1-486f-bf7f-9d98369d343d"
      },
      "execution_count": null,
      "outputs": [
        {
          "output_type": "execute_result",
          "data": {
            "text/html": [
              "\n",
              "  <div id=\"df-dc839ae3-aa52-41c9-9562-d6a8d46a4f05\">\n",
              "    <div class=\"colab-df-container\">\n",
              "      <div>\n",
              "<style scoped>\n",
              "    .dataframe tbody tr th:only-of-type {\n",
              "        vertical-align: middle;\n",
              "    }\n",
              "\n",
              "    .dataframe tbody tr th {\n",
              "        vertical-align: top;\n",
              "    }\n",
              "\n",
              "    .dataframe thead th {\n",
              "        text-align: right;\n",
              "    }\n",
              "</style>\n",
              "<table border=\"1\" class=\"dataframe\">\n",
              "  <thead>\n",
              "    <tr style=\"text-align: right;\">\n",
              "      <th></th>\n",
              "      <th>WELL</th>\n",
              "      <th>DEPTH</th>\n",
              "      <th>FACIES</th>\n",
              "      <th>W_TAR</th>\n",
              "      <th>SW</th>\n",
              "      <th>VSH</th>\n",
              "      <th>PHI</th>\n",
              "      <th>RW</th>\n",
              "    </tr>\n",
              "  </thead>\n",
              "  <tbody>\n",
              "    <tr>\n",
              "      <th>0</th>\n",
              "      <td>well-102496</td>\n",
              "      <td>437.00</td>\n",
              "      <td>5</td>\n",
              "      <td>0.000</td>\n",
              "      <td>1.000</td>\n",
              "      <td>1.000</td>\n",
              "      <td>0.000</td>\n",
              "      <td>1.054</td>\n",
              "    </tr>\n",
              "    <tr>\n",
              "      <th>1</th>\n",
              "      <td>well-102496</td>\n",
              "      <td>437.25</td>\n",
              "      <td>5</td>\n",
              "      <td>0.000</td>\n",
              "      <td>1.000</td>\n",
              "      <td>0.956</td>\n",
              "      <td>0.016</td>\n",
              "      <td>1.054</td>\n",
              "    </tr>\n",
              "    <tr>\n",
              "      <th>2</th>\n",
              "      <td>well-102496</td>\n",
              "      <td>437.50</td>\n",
              "      <td>5</td>\n",
              "      <td>0.000</td>\n",
              "      <td>1.000</td>\n",
              "      <td>0.776</td>\n",
              "      <td>0.083</td>\n",
              "      <td>1.054</td>\n",
              "    </tr>\n",
              "    <tr>\n",
              "      <th>3</th>\n",
              "      <td>well-102496</td>\n",
              "      <td>437.75</td>\n",
              "      <td>4</td>\n",
              "      <td>0.000</td>\n",
              "      <td>1.000</td>\n",
              "      <td>0.583</td>\n",
              "      <td>0.154</td>\n",
              "      <td>1.054</td>\n",
              "    </tr>\n",
              "    <tr>\n",
              "      <th>4</th>\n",
              "      <td>well-102496</td>\n",
              "      <td>438.00</td>\n",
              "      <td>2</td>\n",
              "      <td>0.000</td>\n",
              "      <td>1.000</td>\n",
              "      <td>0.383</td>\n",
              "      <td>0.228</td>\n",
              "      <td>1.054</td>\n",
              "    </tr>\n",
              "    <tr>\n",
              "      <th>...</th>\n",
              "      <td>...</td>\n",
              "      <td>...</td>\n",
              "      <td>...</td>\n",
              "      <td>...</td>\n",
              "      <td>...</td>\n",
              "      <td>...</td>\n",
              "      <td>...</td>\n",
              "      <td>...</td>\n",
              "    </tr>\n",
              "    <tr>\n",
              "      <th>4239</th>\n",
              "      <td>well-102514</td>\n",
              "      <td>558.50</td>\n",
              "      <td>3</td>\n",
              "      <td>0.015</td>\n",
              "      <td>0.788</td>\n",
              "      <td>0.029</td>\n",
              "      <td>0.172</td>\n",
              "      <td>0.943</td>\n",
              "    </tr>\n",
              "    <tr>\n",
              "      <th>4240</th>\n",
              "      <td>well-102514</td>\n",
              "      <td>558.75</td>\n",
              "      <td>3</td>\n",
              "      <td>0.016</td>\n",
              "      <td>0.749</td>\n",
              "      <td>0.002</td>\n",
              "      <td>0.154</td>\n",
              "      <td>0.943</td>\n",
              "    </tr>\n",
              "    <tr>\n",
              "      <th>4241</th>\n",
              "      <td>well-102514</td>\n",
              "      <td>559.00</td>\n",
              "      <td>3</td>\n",
              "      <td>0.011</td>\n",
              "      <td>0.797</td>\n",
              "      <td>0.000</td>\n",
              "      <td>0.130</td>\n",
              "      <td>0.943</td>\n",
              "    </tr>\n",
              "    <tr>\n",
              "      <th>4242</th>\n",
              "      <td>well-102514</td>\n",
              "      <td>559.25</td>\n",
              "      <td>3</td>\n",
              "      <td>0.012</td>\n",
              "      <td>0.766</td>\n",
              "      <td>0.000</td>\n",
              "      <td>0.124</td>\n",
              "      <td>0.943</td>\n",
              "    </tr>\n",
              "    <tr>\n",
              "      <th>4243</th>\n",
              "      <td>well-102514</td>\n",
              "      <td>559.50</td>\n",
              "      <td>3</td>\n",
              "      <td>0.008</td>\n",
              "      <td>0.840</td>\n",
              "      <td>0.000</td>\n",
              "      <td>0.121</td>\n",
              "      <td>0.943</td>\n",
              "    </tr>\n",
              "  </tbody>\n",
              "</table>\n",
              "<p>4244 rows × 8 columns</p>\n",
              "</div>\n",
              "      <button class=\"colab-df-convert\" onclick=\"convertToInteractive('df-dc839ae3-aa52-41c9-9562-d6a8d46a4f05')\"\n",
              "              title=\"Convert this dataframe to an interactive table.\"\n",
              "              style=\"display:none;\">\n",
              "        \n",
              "  <svg xmlns=\"http://www.w3.org/2000/svg\" height=\"24px\"viewBox=\"0 0 24 24\"\n",
              "       width=\"24px\">\n",
              "    <path d=\"M0 0h24v24H0V0z\" fill=\"none\"/>\n",
              "    <path d=\"M18.56 5.44l.94 2.06.94-2.06 2.06-.94-2.06-.94-.94-2.06-.94 2.06-2.06.94zm-11 1L8.5 8.5l.94-2.06 2.06-.94-2.06-.94L8.5 2.5l-.94 2.06-2.06.94zm10 10l.94 2.06.94-2.06 2.06-.94-2.06-.94-.94-2.06-.94 2.06-2.06.94z\"/><path d=\"M17.41 7.96l-1.37-1.37c-.4-.4-.92-.59-1.43-.59-.52 0-1.04.2-1.43.59L10.3 9.45l-7.72 7.72c-.78.78-.78 2.05 0 2.83L4 21.41c.39.39.9.59 1.41.59.51 0 1.02-.2 1.41-.59l7.78-7.78 2.81-2.81c.8-.78.8-2.07 0-2.86zM5.41 20L4 18.59l7.72-7.72 1.47 1.35L5.41 20z\"/>\n",
              "  </svg>\n",
              "      </button>\n",
              "      \n",
              "  <style>\n",
              "    .colab-df-container {\n",
              "      display:flex;\n",
              "      flex-wrap:wrap;\n",
              "      gap: 12px;\n",
              "    }\n",
              "\n",
              "    .colab-df-convert {\n",
              "      background-color: #E8F0FE;\n",
              "      border: none;\n",
              "      border-radius: 50%;\n",
              "      cursor: pointer;\n",
              "      display: none;\n",
              "      fill: #1967D2;\n",
              "      height: 32px;\n",
              "      padding: 0 0 0 0;\n",
              "      width: 32px;\n",
              "    }\n",
              "\n",
              "    .colab-df-convert:hover {\n",
              "      background-color: #E2EBFA;\n",
              "      box-shadow: 0px 1px 2px rgba(60, 64, 67, 0.3), 0px 1px 3px 1px rgba(60, 64, 67, 0.15);\n",
              "      fill: #174EA6;\n",
              "    }\n",
              "\n",
              "    [theme=dark] .colab-df-convert {\n",
              "      background-color: #3B4455;\n",
              "      fill: #D2E3FC;\n",
              "    }\n",
              "\n",
              "    [theme=dark] .colab-df-convert:hover {\n",
              "      background-color: #434B5C;\n",
              "      box-shadow: 0px 1px 3px 1px rgba(0, 0, 0, 0.15);\n",
              "      filter: drop-shadow(0px 1px 2px rgba(0, 0, 0, 0.3));\n",
              "      fill: #FFFFFF;\n",
              "    }\n",
              "  </style>\n",
              "\n",
              "      <script>\n",
              "        const buttonEl =\n",
              "          document.querySelector('#df-dc839ae3-aa52-41c9-9562-d6a8d46a4f05 button.colab-df-convert');\n",
              "        buttonEl.style.display =\n",
              "          google.colab.kernel.accessAllowed ? 'block' : 'none';\n",
              "\n",
              "        async function convertToInteractive(key) {\n",
              "          const element = document.querySelector('#df-dc839ae3-aa52-41c9-9562-d6a8d46a4f05');\n",
              "          const dataTable =\n",
              "            await google.colab.kernel.invokeFunction('convertToInteractive',\n",
              "                                                     [key], {});\n",
              "          if (!dataTable) return;\n",
              "\n",
              "          const docLinkHtml = 'Like what you see? Visit the ' +\n",
              "            '<a target=\"_blank\" href=https://colab.research.google.com/notebooks/data_table.ipynb>data table notebook</a>'\n",
              "            + ' to learn more about interactive tables.';\n",
              "          element.innerHTML = '';\n",
              "          dataTable['output_type'] = 'display_data';\n",
              "          await google.colab.output.renderOutput(dataTable, element);\n",
              "          const docLink = document.createElement('div');\n",
              "          docLink.innerHTML = docLinkHtml;\n",
              "          element.appendChild(docLink);\n",
              "        }\n",
              "      </script>\n",
              "    </div>\n",
              "  </div>\n",
              "  "
            ],
            "text/plain": [
              "             WELL   DEPTH  FACIES  W_TAR     SW    VSH    PHI     RW\n",
              "0     well-102496  437.00       5  0.000  1.000  1.000  0.000  1.054\n",
              "1     well-102496  437.25       5  0.000  1.000  0.956  0.016  1.054\n",
              "2     well-102496  437.50       5  0.000  1.000  0.776  0.083  1.054\n",
              "3     well-102496  437.75       4  0.000  1.000  0.583  0.154  1.054\n",
              "4     well-102496  438.00       2  0.000  1.000  0.383  0.228  1.054\n",
              "...           ...     ...     ...    ...    ...    ...    ...    ...\n",
              "4239  well-102514  558.50       3  0.015  0.788  0.029  0.172  0.943\n",
              "4240  well-102514  558.75       3  0.016  0.749  0.002  0.154  0.943\n",
              "4241  well-102514  559.00       3  0.011  0.797  0.000  0.130  0.943\n",
              "4242  well-102514  559.25       3  0.012  0.766  0.000  0.124  0.943\n",
              "4243  well-102514  559.50       3  0.008  0.840  0.000  0.121  0.943\n",
              "\n",
              "[4244 rows x 8 columns]"
            ]
          },
          "metadata": {},
          "execution_count": 3
        }
      ]
    },
    {
      "cell_type": "code",
      "source": [
        "# Visualizando os poços existentes\n",
        "data.WELL.value_counts()"
      ],
      "metadata": {
        "colab": {
          "base_uri": "https://localhost:8080/"
        },
        "id": "CYfj4gm8lhDg",
        "outputId": "ccd7b835-909e-43c1-ecbb-f1b592114252"
      },
      "execution_count": null,
      "outputs": [
        {
          "output_type": "execute_result",
          "data": {
            "text/plain": [
              "well-102500    519\n",
              "well-102497    515\n",
              "well-102496    513\n",
              "well-102501    498\n",
              "well-102498    493\n",
              "well-102505    447\n",
              "well-102503    425\n",
              "well-102514    419\n",
              "well-102507    415\n",
              "Name: WELL, dtype: int64"
            ]
          },
          "metadata": {},
          "execution_count": 4
        }
      ]
    },
    {
      "cell_type": "code",
      "source": [
        "# Separando o poço de teste (escolhido aleatoriamente)\n",
        "test_data = data[data.WELL == 'well-102501']\n",
        "train_data = data[data.WELL != 'well-102501']"
      ],
      "metadata": {
        "id": "5I-NqQrYoflP"
      },
      "execution_count": null,
      "outputs": []
    },
    {
      "cell_type": "code",
      "source": [
        "# Visualizando as categorias existentes\n",
        "data.FACIES.value_counts()"
      ],
      "metadata": {
        "colab": {
          "base_uri": "https://localhost:8080/"
        },
        "id": "5CMOGLP6mtbO",
        "outputId": "6d8eaf65-6aac-456c-98ff-2b4057d71bb6"
      },
      "execution_count": null,
      "outputs": [
        {
          "output_type": "execute_result",
          "data": {
            "text/plain": [
              "1    1410\n",
              "4    1160\n",
              "2     993\n",
              "5     599\n",
              "3      63\n",
              "0      19\n",
              "Name: FACIES, dtype: int64"
            ]
          },
          "metadata": {},
          "execution_count": 6
        }
      ]
    },
    {
      "cell_type": "code",
      "source": [
        "data.keys()"
      ],
      "metadata": {
        "colab": {
          "base_uri": "https://localhost:8080/"
        },
        "id": "6KWJEukBoSC4",
        "outputId": "79d841df-0631-4a82-db6a-10092d888cfe"
      },
      "execution_count": null,
      "outputs": [
        {
          "output_type": "execute_result",
          "data": {
            "text/plain": [
              "Index(['WELL', 'DEPTH', 'FACIES', 'W_TAR', 'SW', 'VSH', 'PHI', 'RW'], dtype='object')"
            ]
          },
          "metadata": {},
          "execution_count": 7
        }
      ]
    },
    {
      "cell_type": "code",
      "source": [
        "# Separando o DataFrame em variáveis correspondentes às Features e ao Target\n",
        "X = train_data[['W_TAR', 'SW', 'VSH', 'PHI', 'RW']]\n",
        "y = train_data['FACIES']\n",
        "X_test = test_data[['W_TAR', 'SW', 'VSH', 'PHI', 'RW']]\n",
        "y_test = test_data['FACIES']\n"
      ],
      "metadata": {
        "id": "M8LzCcBynNil"
      },
      "execution_count": null,
      "outputs": []
    },
    {
      "cell_type": "markdown",
      "source": [
        "## Criando modelo de SVM"
      ],
      "metadata": {
        "id": "UOWisFvUn4Xq"
      }
    },
    {
      "cell_type": "code",
      "source": [
        "import sklearn\n",
        "from sklearn import svm\n",
        "from sklearn.metrics import accuracy_score, f1_score\n",
        "model_svm = svm.SVC(kernel='rbf', gamma=1, C=30).fit(X, y)"
      ],
      "metadata": {
        "id": "oJro6NaZpucc"
      },
      "execution_count": null,
      "outputs": []
    },
    {
      "cell_type": "code",
      "source": [
        "# Criando função para calcular Acurácia e F1-score\n",
        "def ac_f1(y_test, y_pred):\n",
        "  model_pred_accuracy = accuracy_score(y_test,y_pred)\n",
        "  model_pred_f1 = f1_score(y_test,y_pred, average='weighted')\n",
        "  print(f'Accuracy: {model_pred_accuracy*100:.2f}%')\n",
        "  print(f'F1: {model_pred_f1*100:.2f}%')"
      ],
      "metadata": {
        "id": "jPilFsRs3F35"
      },
      "execution_count": null,
      "outputs": []
    },
    {
      "cell_type": "code",
      "source": [
        "# Aplicando modelo SVM ao poço teste\n",
        "svm_pred = model_svm.predict(X_test)\n",
        "ac_f1(y_test, svm_pred)"
      ],
      "metadata": {
        "colab": {
          "base_uri": "https://localhost:8080/"
        },
        "id": "TBac2-7Kp1lQ",
        "outputId": "357b824f-1510-4374-df86-e3a64b988045"
      },
      "execution_count": null,
      "outputs": [
        {
          "output_type": "stream",
          "name": "stdout",
          "text": [
            "Accuracy: 97.99%\n",
            "F1: 98.02%\n"
          ]
        }
      ]
    },
    {
      "cell_type": "code",
      "source": [
        "from sklearn.metrics import confusion_matrix, classification_report\n",
        "import seaborn as sns\n",
        "!wget https://raw.githubusercontent.com/DTrimarchi10/confusion_matrix/master/cf_matrix.py\n",
        "from cf_matrix import make_confusion_matrix\n",
        "facies_categories = ['0','1','2','3','4','5']\n",
        "cm_svm = confusion_matrix(y_test, svm_pred)\n",
        "mcm_svm = make_confusion_matrix(cm_svm,\n",
        "                     categories=facies_categories,\n",
        "                     cmap='rocket')"
      ],
      "metadata": {
        "colab": {
          "base_uri": "https://localhost:8080/",
          "height": 504
        },
        "id": "7XhtJkZA8wzd",
        "outputId": "e310cbd9-8c58-46ff-acd7-407127d87cc8"
      },
      "execution_count": null,
      "outputs": [
        {
          "output_type": "stream",
          "name": "stdout",
          "text": [
            "--2022-01-18 22:02:46--  https://raw.githubusercontent.com/DTrimarchi10/confusion_matrix/master/cf_matrix.py\n",
            "Resolving raw.githubusercontent.com (raw.githubusercontent.com)... 185.199.108.133, 185.199.109.133, 185.199.110.133, ...\n",
            "Connecting to raw.githubusercontent.com (raw.githubusercontent.com)|185.199.108.133|:443... connected.\n",
            "HTTP request sent, awaiting response... 200 OK\n",
            "Length: 4088 (4.0K) [text/plain]\n",
            "Saving to: ‘cf_matrix.py.5’\n",
            "\n",
            "cf_matrix.py.5      100%[===================>]   3.99K  --.-KB/s    in 0s      \n",
            "\n",
            "2022-01-18 22:02:47 (61.2 MB/s) - ‘cf_matrix.py.5’ saved [4088/4088]\n",
            "\n"
          ]
        },
        {
          "output_type": "display_data",
          "data": {
            "image/png": "[encoded data removed]",
            "text/plain": [
              "<Figure size 432x288 with 2 Axes>"
            ]
          },
          "metadata": {
            "needs_background": "light"
          }
        }
      ]
    },
    {
      "cell_type": "markdown",
      "source": [
        "## Criando modelo de MLP"
      ],
      "metadata": {
        "id": "72k7nOpWsZVe"
      }
    },
    {
      "cell_type": "code",
      "source": [
        "import tensorflow as tf\n",
        "from tensorflow import keras\n",
        "from keras import Sequential\n",
        "from keras.layers import Dense\n",
        "checkpoint_filepath = '/tmp/checkpoint'\n",
        "model_checkpoint = tf.keras.callbacks.ModelCheckpoint(\n",
        "    filepath=checkpoint_filepath,\n",
        "    save_weights_only=True,\n",
        "    monitor='val_accuracy',\n",
        "    mode='max',\n",
        "    save_best_only=True)\n",
        "early_stopping = tf.keras.callbacks.EarlyStopping(monitor='val_accuracy', patience=5, verbose=0, mode='auto')\n",
        "model_mlp = Sequential([\n",
        "                        Dense(100, activation = 'relu'),\n",
        "                        Dense(50, activation = 'relu'),\n",
        "                        Dense(7, activation = 'softmax')\n",
        "])\n",
        "model_mlp.compile(optimizer= 'Adam',\n",
        "                  loss='sparse_categorical_crossentropy',\n",
        "                  metrics=['accuracy'])\n",
        "\n",
        "model_mlp_history = model_mlp.fit(X, y, validation_split=0.2,\n",
        "                                  callbacks=[model_checkpoint, early_stopping],\n",
        "                                  epochs=1000)"
      ],
      "metadata": {
        "colab": {
          "base_uri": "https://localhost:8080/"
        },
        "id": "k0pYTV9Ntale",
        "outputId": "2dadf644-e9d1-48ed-cd0d-627eec644de3"
      },
      "execution_count": null,
      "outputs": [
        {
          "output_type": "stream",
          "name": "stdout",
          "text": [
            "Epoch 1/1000\n",
            "94/94 [==============================] - 1s 5ms/step - loss: 1.2820 - accuracy: 0.4643 - val_loss: 1.1443 - val_accuracy: 0.7027\n",
            "Epoch 2/1000\n",
            "94/94 [==============================] - 0s 4ms/step - loss: 0.7559 - accuracy: 0.7500 - val_loss: 0.8368 - val_accuracy: 0.7800\n",
            "Epoch 3/1000\n",
            "94/94 [==============================] - 0s 3ms/step - loss: 0.5307 - accuracy: 0.8788 - val_loss: 0.6578 - val_accuracy: 0.8920\n",
            "Epoch 4/1000\n",
            "94/94 [==============================] - 0s 3ms/step - loss: 0.4087 - accuracy: 0.9105 - val_loss: 0.5252 - val_accuracy: 0.8840\n",
            "Epoch 5/1000\n",
            "94/94 [==============================] - 0s 3ms/step - loss: 0.3394 - accuracy: 0.9152 - val_loss: 0.4475 - val_accuracy: 0.9053\n",
            "Epoch 6/1000\n",
            "94/94 [==============================] - 0s 3ms/step - loss: 0.2964 - accuracy: 0.9269 - val_loss: 0.4020 - val_accuracy: 0.9080\n",
            "Epoch 7/1000\n",
            "94/94 [==============================] - 0s 2ms/step - loss: 0.2693 - accuracy: 0.9342 - val_loss: 0.3769 - val_accuracy: 0.9080\n",
            "Epoch 8/1000\n",
            "94/94 [==============================] - 0s 2ms/step - loss: 0.2498 - accuracy: 0.9282 - val_loss: 0.3498 - val_accuracy: 0.9133\n",
            "Epoch 9/1000\n",
            "94/94 [==============================] - 0s 3ms/step - loss: 0.2329 - accuracy: 0.9379 - val_loss: 0.3327 - val_accuracy: 0.9173\n",
            "Epoch 10/1000\n",
            "94/94 [==============================] - 0s 3ms/step - loss: 0.2219 - accuracy: 0.9379 - val_loss: 0.3109 - val_accuracy: 0.9213\n",
            "Epoch 11/1000\n",
            "94/94 [==============================] - 0s 3ms/step - loss: 0.2143 - accuracy: 0.9369 - val_loss: 0.3280 - val_accuracy: 0.8973\n",
            "Epoch 12/1000\n",
            "94/94 [==============================] - 0s 3ms/step - loss: 0.2129 - accuracy: 0.9316 - val_loss: 0.2813 - val_accuracy: 0.9280\n",
            "Epoch 13/1000\n",
            "94/94 [==============================] - 0s 3ms/step - loss: 0.1964 - accuracy: 0.9426 - val_loss: 0.2848 - val_accuracy: 0.9000\n",
            "Epoch 14/1000\n",
            "94/94 [==============================] - 0s 3ms/step - loss: 0.1898 - accuracy: 0.9453 - val_loss: 0.2591 - val_accuracy: 0.9227\n",
            "Epoch 15/1000\n",
            "94/94 [==============================] - 0s 3ms/step - loss: 0.1822 - accuracy: 0.9439 - val_loss: 0.2845 - val_accuracy: 0.8907\n",
            "Epoch 16/1000\n",
            "94/94 [==============================] - 0s 3ms/step - loss: 0.1799 - accuracy: 0.9453 - val_loss: 0.2294 - val_accuracy: 0.9227\n",
            "Epoch 17/1000\n",
            "94/94 [==============================] - 0s 3ms/step - loss: 0.1715 - accuracy: 0.9459 - val_loss: 0.2163 - val_accuracy: 0.9307\n",
            "Epoch 18/1000\n",
            "94/94 [==============================] - 0s 3ms/step - loss: 0.1615 - accuracy: 0.9499 - val_loss: 0.2435 - val_accuracy: 0.9040\n",
            "Epoch 19/1000\n",
            "94/94 [==============================] - 0s 2ms/step - loss: 0.1577 - accuracy: 0.9469 - val_loss: 0.2067 - val_accuracy: 0.9267\n",
            "Epoch 20/1000\n",
            "94/94 [==============================] - 0s 2ms/step - loss: 0.1575 - accuracy: 0.9436 - val_loss: 0.1994 - val_accuracy: 0.9347\n",
            "Epoch 21/1000\n",
            "94/94 [==============================] - 0s 3ms/step - loss: 0.1470 - accuracy: 0.9536 - val_loss: 0.1994 - val_accuracy: 0.9320\n",
            "Epoch 22/1000\n",
            "94/94 [==============================] - 0s 2ms/step - loss: 0.1465 - accuracy: 0.9479 - val_loss: 0.1794 - val_accuracy: 0.9507\n",
            "Epoch 23/1000\n",
            "94/94 [==============================] - 0s 3ms/step - loss: 0.1380 - accuracy: 0.9523 - val_loss: 0.1721 - val_accuracy: 0.9547\n",
            "Epoch 24/1000\n",
            "94/94 [==============================] - 0s 3ms/step - loss: 0.1386 - accuracy: 0.9533 - val_loss: 0.1721 - val_accuracy: 0.9400\n",
            "Epoch 25/1000\n",
            "94/94 [==============================] - 0s 2ms/step - loss: 0.1286 - accuracy: 0.9543 - val_loss: 0.1557 - val_accuracy: 0.9427\n",
            "Epoch 26/1000\n",
            "94/94 [==============================] - 0s 2ms/step - loss: 0.1323 - accuracy: 0.9489 - val_loss: 0.1579 - val_accuracy: 0.9333\n",
            "Epoch 27/1000\n",
            "94/94 [==============================] - 0s 2ms/step - loss: 0.1258 - accuracy: 0.9556 - val_loss: 0.1738 - val_accuracy: 0.9360\n",
            "Epoch 28/1000\n",
            "94/94 [==============================] - 0s 2ms/step - loss: 0.1178 - accuracy: 0.9569 - val_loss: 0.1433 - val_accuracy: 0.9507\n"
          ]
        }
      ]
    },
    {
      "cell_type": "code",
      "source": [
        "# Aplicando modelo MLP ao poço teste\n",
        "mlp_pred = model_mlp.predict(X_test)\n",
        "ac_f1(y_test, tf.argmax(mlp_pred, axis=1))"
      ],
      "metadata": {
        "colab": {
          "base_uri": "https://localhost:8080/"
        },
        "id": "KjHkd3N3tsPy",
        "outputId": "1d4a2ac2-7358-44f4-a2a1-481d9be21c76"
      },
      "execution_count": null,
      "outputs": [
        {
          "output_type": "stream",
          "name": "stdout",
          "text": [
            "Accuracy: 95.78%\n",
            "F1: 95.61%\n"
          ]
        }
      ]
    },
    {
      "cell_type": "code",
      "source": [
        "cm_mlp = confusion_matrix(y_test, tf.argmax(mlp_pred,axis=1))\n",
        "mcm_mlp = make_confusion_matrix(cm_mlp,\n",
        "                     categories=facies_categories,\n",
        "                     cmap='rocket')"
      ],
      "metadata": {
        "colab": {
          "base_uri": "https://localhost:8080/",
          "height": 303
        },
        "id": "HUkBaGGT9Uod",
        "outputId": "fbc0190a-d88d-4638-907a-8a6d080b87c0"
      },
      "execution_count": null,
      "outputs": [
        {
          "output_type": "display_data",
          "data": {
            "image/png": "[encoded data removed]",
            "text/plain": [
              "<Figure size 432x288 with 2 Axes>"
            ]
          },
          "metadata": {
            "needs_background": "light"
          }
        }
      ]
    },
    {
      "cell_type": "markdown",
      "source": [
        "\n",
        "## Criando modelo Random Forest"
      ],
      "metadata": {
        "id": "w2G--AEf3_Bo"
      }
    },
    {
      "cell_type": "code",
      "source": [
        "from sklearn.ensemble import RandomForestClassifier\n",
        "model_rf = RandomForestClassifier(n_estimators=20, criterion=\"entropy\", random_state=42)\n",
        "model_rf.fit(X,y)"
      ],
      "metadata": {
        "colab": {
          "base_uri": "https://localhost:8080/"
        },
        "id": "AmkvIksC5Gsp",
        "outputId": "1d2ca47b-a5e5-4a5a-c5b8-bf77f87e40d2"
      },
      "execution_count": null,
      "outputs": [
        {
          "output_type": "execute_result",
          "data": {
            "text/plain": [
              "RandomForestClassifier(criterion='entropy', n_estimators=20, random_state=42)"
            ]
          },
          "metadata": {},
          "execution_count": 95
        }
      ]
    },
    {
      "cell_type": "code",
      "source": [
        "# Aplicando Random Forest ao poço teste\n",
        "rf_pred = model_rf.predict(X_test)\n",
        "ac_f1(y_test, rf_pred)"
      ],
      "metadata": {
        "colab": {
          "base_uri": "https://localhost:8080/"
        },
        "id": "7XxBQahr5wKh",
        "outputId": "773caf4d-fe60-4664-9b08-aa1fcc81e3c4"
      },
      "execution_count": null,
      "outputs": [
        {
          "output_type": "stream",
          "name": "stdout",
          "text": [
            "Accuracy: 99.60%\n",
            "F1: 99.62%\n"
          ]
        }
      ]
    },
    {
      "cell_type": "code",
      "source": [
        "cm_rf = confusion_matrix(y_test, rf_pred)\n",
        "mcm_rf = make_confusion_matrix(cm_rf,\n",
        "                     categories=facies_categories,\n",
        "                     cmap='rocket')"
      ],
      "metadata": {
        "colab": {
          "base_uri": "https://localhost:8080/",
          "height": 303
        },
        "id": "lZquH1L29pyG",
        "outputId": "caef93f4-7d07-4741-e0b3-3fb12bda2452"
      },
      "execution_count": null,
      "outputs": [
        {
          "output_type": "display_data",
          "data": {
            "image/png": "[encoded data removed]",
            "text/plain": [
              "<Figure size 432x288 with 2 Axes>"
            ]
          },
          "metadata": {
            "needs_background": "light"
          }
        }
      ]
    },
    {
      "cell_type": "markdown",
      "source": [
        "## Criando modelo KNN"
      ],
      "metadata": {
        "id": "rBoCtjUv7kQO"
      }
    },
    {
      "cell_type": "code",
      "source": [
        "from sklearn.neighbors import KNeighborsClassifier\n",
        "model_knn = KNeighborsClassifier(n_neighbors=10)\n",
        "model_knn.fit(X,y)"
      ],
      "metadata": {
        "colab": {
          "base_uri": "https://localhost:8080/"
        },
        "id": "1uvjt0f-73c_",
        "outputId": "9771e8d5-991f-443a-a2a1-a2e512695683"
      },
      "execution_count": null,
      "outputs": [
        {
          "output_type": "execute_result",
          "data": {
            "text/plain": [
              "KNeighborsClassifier(n_neighbors=10)"
            ]
          },
          "metadata": {},
          "execution_count": 98
        }
      ]
    },
    {
      "cell_type": "code",
      "source": [
        "# Aplicando KNN ao poço teste\n",
        "knn_pred = model_knn.predict(X_test)\n",
        "ac_f1(y_test, knn_pred)"
      ],
      "metadata": {
        "colab": {
          "base_uri": "https://localhost:8080/"
        },
        "id": "NCBWupWQ8JMO",
        "outputId": "e18e2cda-15fe-4a80-b905-f0f524925f80"
      },
      "execution_count": null,
      "outputs": [
        {
          "output_type": "stream",
          "name": "stdout",
          "text": [
            "Accuracy: 92.37%\n",
            "F1: 92.11%\n"
          ]
        }
      ]
    },
    {
      "cell_type": "code",
      "source": [
        "cm_knn = confusion_matrix(y_test, knn_pred)\n",
        "mcm_knn = make_confusion_matrix(cm_knn,\n",
        "                     categories=facies_categories,\n",
        "                     cmap='rocket')"
      ],
      "metadata": {
        "colab": {
          "base_uri": "https://localhost:8080/",
          "height": 303
        },
        "id": "gTzusYDp8ZXZ",
        "outputId": "294b0848-bb55-444a-e99b-f753e448d4b5"
      },
      "execution_count": null,
      "outputs": [
        {
          "output_type": "display_data",
          "data": {
            "image/png": "[encoded data removed]",
            "text/plain": [
              "<Figure size 432x288 with 2 Axes>"
            ]
          },
          "metadata": {
            "needs_background": "light"
          }
        }
      ]
    },
    {
      "cell_type": "code",
      "source": [
        "import matplotlib.pyplot as plt\n",
        "from matplotlib import colors\n",
        "import matplotlib.patches as mpatches\n",
        "import numpy as np\n",
        "facies2_column = np.asarray(y_test).reshape(len(y_test),1)\n",
        "facies2_column_svm = np.asarray(svm_pred).reshape(len(svm_pred),1)\n",
        "facies2_column_rf = np.asarray(rf_pred).reshape(len(rf_pred),1)\n",
        "facies2_column_mlp = np.asarray(tf.argmax(mlp_pred,axis=1)).reshape(len(tf.argmax(mlp_pred,axis=1)),1)\n",
        "facies2_column_knn = np.asarray(knn_pred).reshape(len(knn_pred),1)\n",
        "values = np.unique(facies2_column.ravel())\n",
        "categories=['0','1','2','3','4','5']\n",
        "\n",
        "import matplotlib as mpl\n",
        "colors = ['brown', 'green', 'red', 'blue', 'yellow', 'purple']\n",
        "bounds = [0,1,2,3,4,5,6]\n",
        "\n",
        "cmap = mpl.colors.ListedColormap(colors)\n",
        "norm = mpl.colors.BoundaryNorm(bounds, cmap.N)\n",
        "\n",
        "fig, ax = plt.subplots(1,5, figsize = (10, 7))\n",
        "fig.suptitle('Poço cego', fontsize=16)\n",
        "im = ax[0].imshow(np.repeat(facies2_column, 100, axis=1),cmap = cmap, interpolation=None)\n",
        "ax[0].set_title('Real')\n",
        "ax[0].set_xticks([])\n",
        "ax[1].imshow(np.repeat(facies2_column_svm, 100, axis=1),cmap = cmap, interpolation=None)\n",
        "ax[1].set_title('SVM (RBF)')\n",
        "ax[1].set_yticks([])\n",
        "ax[1].set_xticks([]) \n",
        "ax[2].imshow(np.repeat(facies2_column_rf, 100, axis=1),cmap = cmap, interpolation=None)\n",
        "ax[2].set_title('Random Forest')\n",
        "ax[2].set_yticks([]) \n",
        "ax[2].set_xticks([])\n",
        "ax[3].imshow(np.repeat(facies2_column_mlp, 100, axis=1),cmap = cmap, norm=norm, interpolation=None)\n",
        "ax[3].set_title('MLP')\n",
        "ax[3].set_yticks([]) \n",
        "ax[3].set_xticks([])\n",
        "ax[4].imshow(np.repeat(facies2_column_knn, 100, axis=1),cmap = cmap, norm=norm, interpolation=None)\n",
        "ax[4].set_title('KNN')\n",
        "ax[4].set_yticks([]) \n",
        "ax[4].set_xticks([])\n",
        "colors = [im.cmap(im.norm(value)) for value in values]\n",
        "patches = [ mpatches.Patch(color=colors[i], label=\"{l}\".format(l=categories[values[i]]) ) for i in range(len(values)) ]\n",
        "\n",
        "plt.legend(handles=patches, bbox_to_anchor=(1.05, 1), loc=2, borderaxespad=0. )"
      ],
      "metadata": {
        "colab": {
          "base_uri": "https://localhost:8080/",
          "height": 484
        },
        "id": "e5ecd2xR986X",
        "outputId": "ecd036be-147b-4ad3-e1ae-c37403d70d09"
      },
      "execution_count": null,
      "outputs": [
        {
          "output_type": "execute_result",
          "data": {
            "text/plain": [
              "<matplotlib.legend.Legend at 0x7f0fb6c8cbd0>"
            ]
          },
          "metadata": {},
          "execution_count": 101
        },
        {
          "output_type": "display_data",
          "data": {
            "image/png": "[encoded data removed]",
            "text/plain": [
              "<Figure size 720x504 with 5 Axes>"
            ]
          },
          "metadata": {
            "needs_background": "light"
          }
        }
      ]
    }
  ]
}